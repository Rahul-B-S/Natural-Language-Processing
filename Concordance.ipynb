{
 "cells": [
  {
   "cell_type": "code",
   "execution_count": 1,
   "id": "bcbc3be2-4ca4-4789-920a-cedda9f3e6d1",
   "metadata": {},
   "outputs": [
    {
     "name": "stdout",
     "output_type": "stream",
     "text": [
      "Displaying 25 of 138 matches:\n",
      "w of authority being now long passed away , they had been living together as f\n",
      "e than she thinks for .\" Emma turned away her head , divided between tears and\n",
      "ause it began to drizzle , he darted away with so much gallantry , and borrowe\n",
      " years of his life passed cheerfully away . He had , by that time , realised a\n",
      "ery domestic comfort , or saw her go away in the evening attended by her pleas\n",
      "r , was in no danger of being thrown away . After these came a second set ; am\n",
      "n - betweens , that the evening flew away at a very unusual rate ; and the sup\n",
      " particular pleasure in sending them away happy . The happiness of Miss Smith \n",
      "are about .\" \" And when she had come away , Mrs . Martin was so very kind as t\n",
      " , I am afraid you are rather thrown away , and that with every disposition to\n",
      "ch of being finished , when I put it away in a pet , and vowed I would never t\n",
      "e a kindness indeed ! It would amuse away the difficulties of her part , and l\n",
      "r from one of his sisters , and gone away ; and on opening this parcel , she h\n",
      "not deceive yourself ; do not be run away with by gratitude and compassion . A\n",
      "nstead of answering , Harriet turned away confused , and stood thoughtfully by\n",
      "r lady too , and altogether sent him away very happy . If he had never esteeme\n",
      "at he does not mean to throw himself away . I have heard him speak with great \n",
      "e restoratives . Harriet ' s staying away so long was beginning to make her un\n",
      " , and Miss Nash came and scolded us away , and staid to look through herself \n",
      "oes its meaning change . But take it away , and all _appropriation_ ceases , a\n",
      "Poor Isabella !-- she is sadly taken away from us all !-- and how sorry she wi\n",
      "ade walked in again . Harriet turned away ; but Emma could receive him with th\n",
      "pt to incline her to laugh . She ran away to indulge the inclination , leaving\n",
      "d , she would be very likely to give away sixpence of it ; and nobody is afrai\n",
      " her say to Harriet , as they walked away , \" These are the sights , Harriet ,\n"
     ]
    }
   ],
   "source": [
    "from nltk.corpus import gutenberg\n",
    "from nltk.text import Text\n",
    "corpus=gutenberg.words(\"austen-emma.txt\")\n",
    "text=Text(corpus)\n",
    "text.concordance(\"away\")"
   ]
  }
 ],
 "metadata": {
  "kernelspec": {
   "display_name": "Python 3 (ipykernel)",
   "language": "python",
   "name": "python3"
  },
  "language_info": {
   "codemirror_mode": {
    "name": "ipython",
    "version": 3
   },
   "file_extension": ".py",
   "mimetype": "text/x-python",
   "name": "python",
   "nbconvert_exporter": "python",
   "pygments_lexer": "ipython3",
   "version": "3.9.5"
  }
 },
 "nbformat": 4,
 "nbformat_minor": 5
}
