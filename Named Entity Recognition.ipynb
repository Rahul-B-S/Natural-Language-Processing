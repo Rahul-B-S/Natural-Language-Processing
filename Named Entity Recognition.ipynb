{
 "cells": [
  {
   "cell_type": "code",
   "execution_count": 1,
   "id": "0587b0bb-3ac1-4ffe-b518-df52534dbdf6",
   "metadata": {},
   "outputs": [],
   "source": [
    "import nltk\n",
    "from nltk.tokenize import word_tokenize"
   ]
  },
  {
   "cell_type": "code",
   "execution_count": 2,
   "id": "fb0f6618-0675-4f8d-9287-31ba78df35cd",
   "metadata": {},
   "outputs": [],
   "source": [
    "#Function for BIO tagging\n",
    "def bio_tag(tags):\n",
    "    bio_tagged=[]\n",
    "    for i,tag in enumerate(tags):\n",
    "        if tag == \"O\":\n",
    "            bio_tagged.append(tag)\n",
    "        elif i == 0 or tags[i-1]!=tag:\n",
    "            bio_tagged.append(\"B-\"+tag)\n",
    "        else:\n",
    "            bio_tagged.append(\"I-\"+tag)\n",
    "    return bio_tagged"
   ]
  },
  {
   "cell_type": "code",
   "execution_count": 8,
   "id": "a95e215c-36c2-43d8-a846-1ca0af2af801",
   "metadata": {},
   "outputs": [
    {
     "name": "stdin",
     "output_type": "stream",
     "text": [
      "Enter the text:  John Smith is a software engineer at XYZ\n"
     ]
    },
    {
     "name": "stdout",
     "output_type": "stream",
     "text": [
      "John B-PERSON\n",
      "Smith I-PERSON\n",
      "is O\n",
      "a O\n",
      "software O\n",
      "engineer O\n",
      "at O\n",
      "XYZ B-ORGANIZATION\n"
     ]
    }
   ],
   "source": [
    "text=input(\"Enter the text: \")\n",
    "tok=word_tokenize(text)\n",
    "tagged=nltk.pos_tag(tok)\n",
    "tree=nltk.ne_chunk(tagged)\n",
    "\n",
    "tags=[]\n",
    "for chunk in tree:\n",
    "    if hasattr(chunk,\"label\"):\n",
    "        tags.append(chunk.label())\n",
    "    else:\n",
    "        tags.append(\"O\")\n",
    "\n",
    "bio_tagged=bio_tag(tags)\n",
    "\n",
    "for token,tag in zip(tok,bio_tagged):\n",
    "    print(token,tag)"
   ]
  },
  {
   "cell_type": "code",
   "execution_count": null,
   "id": "9934263e-e06c-4c0a-b648-a9cc3f3ea417",
   "metadata": {},
   "outputs": [],
   "source": []
  }
 ],
 "metadata": {
  "kernelspec": {
   "display_name": "Python 3 (ipykernel)",
   "language": "python",
   "name": "python3"
  },
  "language_info": {
   "codemirror_mode": {
    "name": "ipython",
    "version": 3
   },
   "file_extension": ".py",
   "mimetype": "text/x-python",
   "name": "python",
   "nbconvert_exporter": "python",
   "pygments_lexer": "ipython3",
   "version": "3.9.5"
  }
 },
 "nbformat": 4,
 "nbformat_minor": 5
}
