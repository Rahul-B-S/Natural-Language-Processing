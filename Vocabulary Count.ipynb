{
 "cells": [
  {
   "cell_type": "code",
   "execution_count": 5,
   "id": "fd02443b-3ef6-404c-af19-2b6208e579b5",
   "metadata": {},
   "outputs": [
    {
     "name": "stdout",
     "output_type": "stream",
     "text": [
      "Number of tokens in the text: 10\n",
      "Number of different words in the given text: 6\n",
      "['DT', 'VBZ', 'NN', 'IN', 'VBG', 'JJ']\n",
      "Frequency of each words:\n",
      "\t this : 2\n",
      "\t is : 1\n",
      "\t a : 1\n",
      "\t sentence : 1\n",
      "\t for : 1\n",
      "\t counting : 1\n",
      "\t vocabulary : 1\n",
      "\t in : 1\n",
      "\t program : 1\n",
      "Percentage of each word in the text: \n",
      "\t this : 20.0 %\n",
      "\t is : 10.0 %\n",
      "\t a : 10.0 %\n",
      "\t sentence : 10.0 %\n",
      "\t for : 10.0 %\n",
      "\t counting : 10.0 %\n",
      "\t vocabulary : 10.0 %\n",
      "\t in : 10.0 %\n",
      "\t program : 10.0 %\n"
     ]
    }
   ],
   "source": [
    "import nltk\n",
    "from nltk.tokenize import word_tokenize\n",
    "from nltk.probability import FreqDist\n",
    "\n",
    "text=\"This is a sentence for counting vocabulary in this program\"\n",
    "\n",
    "# Tokenizing the given text.\n",
    "tok=word_tokenize(text)\n",
    "\n",
    "# Finding the frequency of each token in the text\n",
    "fq=FreqDist(tokens.lower() for tokens in tok)\n",
    "\n",
    "# Pos tagging to find the different types of tokens in the text\n",
    "pos=nltk.pos_tag(tok)\n",
    "diff_tok=[]\n",
    "count=0\n",
    "for i in pos:\n",
    "    if i[1] not in diff_tok:\n",
    "        count+=1\n",
    "        diff_tok.append(i[1])\n",
    "\n",
    "print(\"Number of tokens in the text:\",len(tok))\n",
    "print(\"Number of different words in the given text:\",count)\n",
    "print(diff_tok)\n",
    "print(\"Frequency of each words:\")\n",
    "for i in fq:\n",
    "    print(\"\\t\",i,\":\",fq[i])\n",
    "\n",
    "# Display the percentage of each tokens in the text.\n",
    "print(\"Percentage of each word in the text: \")\n",
    "for i in fq:\n",
    "    print(\"\\t\",i,\":\",fq[i]/len(tok)*100,\"%\")"
   ]
  }
 ],
 "metadata": {
  "kernelspec": {
   "display_name": "Python 3 (ipykernel)",
   "language": "python",
   "name": "python3"
  },
  "language_info": {
   "codemirror_mode": {
    "name": "ipython",
    "version": 3
   },
   "file_extension": ".py",
   "mimetype": "text/x-python",
   "name": "python",
   "nbconvert_exporter": "python",
   "pygments_lexer": "ipython3",
   "version": "3.9.5"
  }
 },
 "nbformat": 4,
 "nbformat_minor": 5
}
