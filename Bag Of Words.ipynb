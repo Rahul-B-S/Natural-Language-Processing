{
 "cells": [
  {
   "cell_type": "code",
   "execution_count": 2,
   "id": "d6e39816-863b-433d-93aa-de4db20abc1d",
   "metadata": {},
   "outputs": [
    {
     "name": "stdin",
     "output_type": "stream",
     "text": [
      "Enter the number of documents: 2\n",
      "Enter the document1:  Man eats Meat\n",
      "Enter the document2:  dog Eats meat\n"
     ]
    },
    {
     "name": "stdout",
     "output_type": "stream",
     "text": [
      "IDs of each word is: \n",
      "\t man : 1\n",
      "\t meat : 2\n",
      "\t dog : 3\n",
      "\t eats : 4\n",
      "The text before encoding is: man eats meat\n",
      "Text after encoding is: [1, 1, 0, 1]\n",
      "The text before encoding is: dog eats meat\n",
      "Text after encoding is: [0, 1, 1, 1]\n"
     ]
    }
   ],
   "source": [
    "from nltk.tokenize import word_tokenize\n",
    "\n",
    "# Accepting the documents and creating a single string by combining the documents.\n",
    "n=int(input(\"Enter the number of documents:\"))\n",
    "docs=[]\n",
    "text=\"\"\n",
    "for i in range(n):\n",
    "    doc=input(\"Enter the document\"+str(i+1)+\": \")\n",
    "    docs.append(doc.lower())\n",
    "    text=text+doc.lower()+\" \"\n",
    "\n",
    "# Tokenizing the combined string.\n",
    "tok=set(word.lower() for word in word_tokenize(text))\n",
    "\n",
    "# Assigning unique IDs for each word.\n",
    "t=dict()\n",
    "for i,word in enumerate(tok):\n",
    "    t[word]=i+1\n",
    "    \n",
    "# Displaying the IDs of each word.\n",
    "print(\"IDs of each word is: \")\n",
    "for i in t:\n",
    "    print(\"\\t\",i,\":\",t[i])\n",
    "\n",
    "# Performing Bag Of Words\n",
    "for doc in docs:\n",
    "    print(\"The text before encoding is:\",doc)\n",
    "    bow_vector=[0 for i in range(len(tok))]\n",
    "    for word in doc.split():\n",
    "        bow_vector[t[word.lower()]-1]=1\n",
    "    print(\"Text after encoding is:\",bow_vector)"
   ]
  }
 ],
 "metadata": {
  "kernelspec": {
   "display_name": "Python 3 (ipykernel)",
   "language": "python",
   "name": "python3"
  },
  "language_info": {
   "codemirror_mode": {
    "name": "ipython",
    "version": 3
   },
   "file_extension": ".py",
   "mimetype": "text/x-python",
   "name": "python",
   "nbconvert_exporter": "python",
   "pygments_lexer": "ipython3",
   "version": "3.9.5"
  }
 },
 "nbformat": 4,
 "nbformat_minor": 5
}
